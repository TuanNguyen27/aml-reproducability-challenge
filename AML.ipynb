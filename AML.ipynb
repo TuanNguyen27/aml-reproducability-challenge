{
 "cells": [
  {
   "cell_type": "markdown",
   "metadata": {
    "colab_type": "text",
    "id": "Y7NrOM8pl9h4"
   },
   "source": [
    "# Variational Continual Learning"
   ]
  },
  {
   "cell_type": "code",
   "execution_count": 1,
   "metadata": {
    "colab": {},
    "colab_type": "code",
    "id": "Bckt_VDclqDZ"
   },
   "outputs": [],
   "source": [
    "import numpy as np\n",
    "from src import vcl_nn\n",
    "# visualization tools\n",
    "import matplotlib\n",
    "import matplotlib.pyplot as plt\n",
    "# datasets\n",
    "import torchvision.datasets as datasets"
   ]
  },
  {
   "cell_type": "markdown",
   "metadata": {
    "colab_type": "text",
    "id": "watXub2HjxTK"
   },
   "source": [
    "# EXPERIMENTS\n",
    "In this section we replicate the experiments from the original paper. The experiments are divided into discriminative and generative cases.\n",
    "\n",
    "## Discriminative Experiments\n",
    "### 1)  Permuted MNIST\n",
    "In the permuted MNIST experiment, each of the *T* datasets is a copy of the MNIST dataset where the pixels in the image have undergone a random fixed permutation. The original paper compares the performance (average test set accuracy) of VCL to EWC, SI, and diagonal LP."
   ]
  },
  {
   "cell_type": "code",
   "execution_count": 2,
   "metadata": {
    "colab": {
     "base_uri": "https://localhost:8080/",
     "height": 231
    },
    "colab_type": "code",
    "id": "UrM0AmLLjwHO",
    "outputId": "23c8433e-4183-4058-c4a9-2c3738328651"
   },
   "outputs": [
    {
     "name": "stdout",
     "output_type": "stream",
     "text": [
      "Downloading http://yann.lecun.com/exdb/mnist/train-images-idx3-ubyte.gz to ./data/MNIST/raw/train-images-idx3-ubyte.gz\n"
     ]
    },
    {
     "name": "stderr",
     "output_type": "stream",
     "text": [
      "100.1%"
     ]
    },
    {
     "name": "stdout",
     "output_type": "stream",
     "text": [
      "Extracting ./data/MNIST/raw/train-images-idx3-ubyte.gz\n",
      "Downloading http://yann.lecun.com/exdb/mnist/train-labels-idx1-ubyte.gz to ./data/MNIST/raw/train-labels-idx1-ubyte.gz\n"
     ]
    },
    {
     "name": "stderr",
     "output_type": "stream",
     "text": [
      "113.5%"
     ]
    },
    {
     "name": "stdout",
     "output_type": "stream",
     "text": [
      "Extracting ./data/MNIST/raw/train-labels-idx1-ubyte.gz\n",
      "Downloading http://yann.lecun.com/exdb/mnist/t10k-images-idx3-ubyte.gz to ./data/MNIST/raw/t10k-images-idx3-ubyte.gz\n"
     ]
    },
    {
     "name": "stderr",
     "output_type": "stream",
     "text": [
      "100.4%"
     ]
    },
    {
     "name": "stdout",
     "output_type": "stream",
     "text": [
      "Extracting ./data/MNIST/raw/t10k-images-idx3-ubyte.gz\n",
      "Downloading http://yann.lecun.com/exdb/mnist/t10k-labels-idx1-ubyte.gz to ./data/MNIST/raw/t10k-labels-idx1-ubyte.gz\n"
     ]
    },
    {
     "name": "stderr",
     "output_type": "stream",
     "text": [
      "180.4%"
     ]
    },
    {
     "name": "stdout",
     "output_type": "stream",
     "text": [
      "Extracting ./data/MNIST/raw/t10k-labels-idx1-ubyte.gz\n",
      "Processing...\n",
      "Done!\n"
     ]
    },
    {
     "ename": "AttributeError",
     "evalue": "'int' object has no attribute 'value'",
     "output_type": "error",
     "traceback": [
      "\u001b[0;31m---------------------------------------------------------------------------\u001b[0m",
      "\u001b[0;31mAttributeError\u001b[0m                            Traceback (most recent call last)",
      "\u001b[0;32m<ipython-input-2-54d4980ab82c>\u001b[0m in \u001b[0;36m<module>\u001b[0;34m\u001b[0m\n\u001b[1;32m      6\u001b[0m \u001b[0mmnist_out_dim\u001b[0m \u001b[0;34m=\u001b[0m \u001b[0;36m10\u001b[0m\u001b[0;34m\u001b[0m\u001b[0;34m\u001b[0m\u001b[0m\n\u001b[1;32m      7\u001b[0m \u001b[0;34m\u001b[0m\u001b[0m\n\u001b[0;32m----> 8\u001b[0;31m \u001b[0mprint\u001b[0m\u001b[0;34m(\u001b[0m\u001b[0mmnist_train\u001b[0m\u001b[0;34m[\u001b[0m\u001b[0;36m0\u001b[0m\u001b[0;34m]\u001b[0m\u001b[0;34m[\u001b[0m\u001b[0;36m1\u001b[0m\u001b[0;34m]\u001b[0m\u001b[0;34m.\u001b[0m\u001b[0mvalue\u001b[0m\u001b[0;34m(\u001b[0m\u001b[0;34m)\u001b[0m\u001b[0;34m)\u001b[0m\u001b[0;34m\u001b[0m\u001b[0;34m\u001b[0m\u001b[0m\n\u001b[0m\u001b[1;32m      9\u001b[0m \u001b[0;34m\u001b[0m\u001b[0m\n\u001b[1;32m     10\u001b[0m \u001b[0;31m# transformation that is applied to each new task\u001b[0m\u001b[0;34m\u001b[0m\u001b[0;34m\u001b[0m\u001b[0;34m\u001b[0m\u001b[0m\n",
      "\u001b[0;31mAttributeError\u001b[0m: 'int' object has no attribute 'value'"
     ]
    }
   ],
   "source": [
    "# download MNIST\n",
    "mnist_train = datasets.MNIST(root='./data/', train=True, download=True)\n",
    "mnist_test = datasets.MNIST(root='./data/', train=False, download=True)\n",
    "\n",
    "mnist_in_dim = 28*28\n",
    "mnist_out_dim = 10\n",
    "\n",
    "print(mnist_train[0][1].value())\n",
    "\n",
    "# transformation that is applied to each new task\n",
    "perm = torch.randperm(mnist_in_dim)\n",
    "\n",
    "# dims are the same as in original paper\n",
    "model = VCL_NN(mnist_in_dim, mnist_out_dim, 100, 2)\n",
    "\n",
    "# each task is a random permutation of MNIST\n",
    "for task in range(10):\n",
    "    mnist_train = None\n",
    "\n",
    "# test\n",
    "for task in range(10):\n",
    "    pass"
   ]
  },
  {
   "cell_type": "markdown",
   "metadata": {
    "colab_type": "text",
    "id": "vU2YH4qawBzh"
   },
   "source": [
    "### 2) Split MNIST\n",
    "In the split MNIST experiment, the MNIST dataset is divided into five binary classification tasks. The tasks are (0/1), (2/3), (4/5), (6/7), (8/9). Again the original paper compares the *average test set accuracy* of VCL against EWC, SI, and diagonal LP."
   ]
  },
  {
   "cell_type": "code",
   "execution_count": null,
   "metadata": {
    "colab": {},
    "colab_type": "code",
    "id": "hxw4OEV-xCR6"
   },
   "outputs": [],
   "source": [
    "# split MNIST\n",
    "mnist_train = datas"
   ]
  },
  {
   "cell_type": "markdown",
   "metadata": {
    "colab_type": "text",
    "id": "y8sqxPnP3t6E"
   },
   "source": [
    "### 3) Split notMNIST\n",
    "In this experiment, the notMNIST dataset is used, which consists of images of 10 different characters (from A to J). The dataset is then split into five binary classification tasks as it was in the second experiment. The comparison is again *average test set accuracy* against EWC, SI, and diagonal LP."
   ]
  },
  {
   "cell_type": "code",
   "execution_count": null,
   "metadata": {
    "colab": {},
    "colab_type": "code",
    "id": "If_eKVO74MOy"
   },
   "outputs": [],
   "source": [
    "# split notMNIST\n"
   ]
  },
  {
   "cell_type": "markdown",
   "metadata": {
    "colab_type": "text",
    "id": "6SPBnxahlcsP"
   },
   "source": [
    "## Generative Experiments"
   ]
  },
  {
   "cell_type": "code",
   "execution_count": null,
   "metadata": {
    "colab": {},
    "colab_type": "code",
    "id": "9kqOG-jxlrVE"
   },
   "outputs": [],
   "source": []
  }
 ],
 "metadata": {
  "colab": {
   "collapsed_sections": [],
   "name": "AML",
   "provenance": [],
   "version": "0.3.2"
  },
  "kernelspec": {
   "display_name": "Python 3",
   "language": "python",
   "name": "python3"
  },
  "language_info": {
   "codemirror_mode": {
    "name": "ipython",
    "version": 3
   },
   "file_extension": ".py",
   "mimetype": "text/x-python",
   "name": "python",
   "nbconvert_exporter": "python",
   "pygments_lexer": "ipython3",
   "version": "3.6.7"
  }
 },
 "nbformat": 4,
 "nbformat_minor": 1
}
